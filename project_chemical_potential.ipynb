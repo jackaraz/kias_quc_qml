{
 "cells": [
  {
   "cell_type": "markdown",
   "id": "f0de1406-7103-4ab5-b629-f79e78da3ac7",
   "metadata": {},
   "source": [
    "# Non-linear Sigma Model with chemical potential"
   ]
  },
  {
   "cell_type": "markdown",
   "id": "a947d718-017d-4264-9a95-4d5e6f24d318",
   "metadata": {},
   "source": [
    "Sigma model Hamiltonian\n",
    "$$ a\\mathcal{H} = \\frac{1}{2\\beta}\\sum_{k=1}^{N} \\mathbf{J}_k^2 - \\beta \\sum_{k=1}^{N-1}n_k n_{k+1} - a\\mu \\mathbf{Q}$$\n",
    "$n_k n_{k+1}$ can be rewritten as (see [this paper](https://link.aps.org/doi/10.1103/PhysRevD.99.074501))\n",
    "$$ n_k n_{k+1} = n^+_k n^-_{k+1} + n^-_k n^+_{k+1} + n^z_k n^z_{k+1}$$\n",
    "\n",
    "\n",
    "For 4D local Hilbert-space, these terms can be written as\n",
    "$$ n^+ = \\frac{1}{\\sqrt{3}}\\left(\\begin{matrix} 0 & 0 & 0 & -1 \\\\ 1 & 0 & 0 & 0 \\\\ 0 & 0 & 0 & 0 \\\\ 0 & 0 & 0 & 0 \\end{matrix}\\right)\\quad , \\quad\n",
    "n^- = \\frac{1}{\\sqrt{3}}\\left(\\begin{matrix} 0 & 1 & 0 & 0 \\\\ 0 & 0 & 0 & 0 \\\\ 0 & 0 & 0 & 0 \\\\ -1 & 0 & 0 & 0 \\end{matrix}\\right)\\quad , \\quad\n",
    "n^z = \\frac{1}{\\sqrt{3}}\\left(\\begin{matrix} 0 & 0 & 1 & 0 \\\\ 0 & 0 & 0 & 0 \\\\ 1 & 0 & 0 & 0 \\\\ 0 & 0 & 0 & 0 \\end{matrix}\\right)\\quad , \\quad\n",
    "Q = \\left(\\begin{matrix} 0 & 0 & 0 & 0 \\\\ 0 & -1 & 0 & 0 \\\\ 0 & 0 & 0 & 0 \\\\ 0 & 0 & 0 & 1 \\end{matrix}\\right)\n",
    "$$\n",
    "and the kinetic term\n",
    "$$ \\mathcal{H}^0 = \\left(\\begin{matrix} 0 & 0 & 0 & 0 \\\\ 0 & 2 & 0 & 0 \\\\ 0 & 0 & 2 & 0 \\\\ 0 & 0 & 0 & 2 \\end{matrix}\\right)$$\n",
    "\n",
    "Note that these terms are originating from the truncated Hamiltonian, where normaly Hilbert space is infinite.\n",
    "\n",
    "To use these on a quantum device, they need to be decomposed into Pauli basis i.e. $\\{I, X, Y, Z\\}$ which is equavalent to $\\{ \\mathbb{1}, \\sigma_x, \\sigma_y, \\sigma_z\\}$\n",
    "$$ \\mathcal{H}^0 = \\frac{1}{2} (3\\ II - IZ - ZI - ZZ )\\quad , \\quad \\mathbf{Q} = \\frac{1}{2}(ZZ - ZI)$$\n",
    "$$ n_k n_{k+1} = \\frac{1}{24}(IXIX-IXXX+IXYY+IXZX+IYIY+IYXY+IYYX+IYZY+2XIXI+2XIXZ-XXIX+XXXX-XXYY-XXZX+XYIY+XYXY+XYYX+XYZY+2XZXI+2XZXZ+YXIY+YXXY+YXYX+YXZY+YYIX-YYXX+YYYY+YYZX+ZXIX-ZXXX+   ZXYY+ZXZX+ZYIY+ZYXY+ZYYX+ZYZY)\n",
    "$$\n",
    "\n",
    "\n",
    "**Notation example:** $\\sigma_x^0\\otimes\\sigma_y^1 = XY$"
   ]
  },
  {
   "cell_type": "code",
   "execution_count": 1,
   "id": "14d3d81c-1725-494b-b3c4-8ff45d12735d",
   "metadata": {},
   "outputs": [],
   "source": [
    "import pennylane as qml\n",
    "import pennylane.numpy as np\n",
    "import matplotlib.pyplot as plt"
   ]
  },
  {
   "cell_type": "code",
   "execution_count": 2,
   "id": "0b13e393-3863-4271-8049-9a813cbf30a5",
   "metadata": {},
   "outputs": [],
   "source": [
    "beta = np.linspace(0.7, 1.8, 12)\n",
    "mu   = np.linspace(0.3, 0.7, 9)"
   ]
  },
  {
   "cell_type": "markdown",
   "id": "5cc09be9-6440-4d18-ac5e-c7c6257a9a15",
   "metadata": {},
   "source": [
    "## Construct Hamiltonian using Pennylane"
   ]
  },
  {
   "cell_type": "markdown",
   "id": "3ef39f2b-4c19-4850-b6be-3217c65cbcfc",
   "metadata": {},
   "source": [
    "Notice that the Hamiltonian below is written for 3 sites with periodic boundary conditions, so the graph structure is triangular.\n",
    "Lets first try to obtain result for this construction and then move on for larger number of sites and different geometries. Observe how \n",
    "does the result change with lattice size. "
   ]
  },
  {
   "cell_type": "code",
   "execution_count": null,
   "id": "9cc8c519-4c32-4854-b888-ca8e0014bc2b",
   "metadata": {},
   "outputs": [],
   "source": [
    "def Hamiltonian(beta: float, mu: float = 0.):\n",
    "    div_2beta = 1./(2*beta)\n",
    "    # last two terms include Q in the kinetic term\n",
    "    kinetic = lambda n0, n1 : [qml.Identity(n0) @ qml.Identity(n1), \n",
    "                               qml.Identity(n0) @ qml.PauliZ(n1),\n",
    "                               qml.PauliZ(n0) @ qml.Identity(n1),\n",
    "                               qml.PauliZ(n0) @ qml.PauliZ(n1),\n",
    "                               qml.PauliZ(n0) @ qml.Identity(n1),\n",
    "                               qml.PauliZ(n0) @ qml.PauliZ(n1)]\n",
    "\n",
    "    kinetic_term = kinetic(0,1) + kinetic(2,3) + kinetic(4,5)\n",
    "    kinetic_coeff = [1.5 * div_2beta, -0.5 * div_2beta, -0.5 * div_2beta, -0.5 * div_2beta, 0.5 * mu, -0.5 * mu] * 3\n",
    "    \n",
    "    interaction = lambda n0, n1, n2, n3: [qml.Identity(n0) @ qml.PauliX(n1) @ qml.Identity(n2) @ qml.PauliX(n3),\n",
    "                                          qml.Identity(n0) @ qml.PauliX(n1) @ qml.PauliX(n2) @ qml.PauliX(n3),\n",
    "                                          qml.Identity(n0) @ qml.PauliX(n1) @ qml.PauliY(n2) @ qml.PauliY(n3),\n",
    "                                          qml.Identity(n0) @ qml.PauliX(n1) @ qml.PauliZ(n2) @ qml.PauliX(n3),\n",
    "                                          qml.Identity(n0) @ qml.PauliY(n1) @ qml.Identity(n2) @ qml.PauliY(n3),\n",
    "                                          qml.Identity(n0) @ qml.PauliY(n1) @ qml.PauliX(n2) @ qml.PauliY(n3),\n",
    "                                          qml.Identity(n0) @ qml.PauliY(n1) @ qml.PauliY(n2) @ qml.PauliX(n3),\n",
    "                                          qml.Identity(n0) @ qml.PauliY(n1) @ qml.PauliZ(n2) @ qml.PauliY(n3),\n",
    "                                          qml.PauliX(n0) @ qml.Identity(n1) @ qml.PauliX(n2) @ qml.Identity(n3),\n",
    "                                          qml.PauliX(n0) @ qml.Identity(n1) @ qml.PauliX(n2) @ qml.PauliZ(n3),\n",
    "                                          qml.PauliX(n0) @ qml.PauliX(n1) @ qml.Identity(n2) @ qml.PauliX(n3),\n",
    "                                          qml.PauliX(n0) @ qml.PauliX(n1) @ qml.PauliX(n2) @ qml.PauliX(n3),\n",
    "                                          qml.PauliX(n0) @ qml.PauliX(n1) @ qml.PauliY(n2) @ qml.PauliY(n3),\n",
    "                                          qml.PauliX(n0) @ qml.PauliX(n1) @ qml.PauliZ(n2) @ qml.PauliX(n3),\n",
    "                                          qml.PauliX(n0) @ qml.PauliY(n1) @ qml.Identity(n2) @ qml.PauliY(n3),\n",
    "                                          qml.PauliX(n0) @ qml.PauliY(n1) @ qml.PauliX(n2) @ qml.PauliY(n3),\n",
    "                                          qml.PauliX(n0) @ qml.PauliY(n1) @ qml.PauliY(n2) @ qml.PauliX(n3),\n",
    "                                          qml.PauliX(n0) @ qml.PauliY(n1) @ qml.PauliZ(n2) @ qml.PauliY(n3),\n",
    "                                          qml.PauliX(n0) @ qml.PauliZ(n1) @ qml.PauliX(n2) @ qml.Identity(n3),\n",
    "                                          qml.PauliX(n0) @ qml.PauliZ(n1) @ qml.PauliX(n2) @ qml.PauliZ(n3),\n",
    "                                          qml.PauliY(n0) @ qml.PauliX(n1) @ qml.Identity(n2) @ qml.PauliY(n3),\n",
    "                                          qml.PauliY(n0) @ qml.PauliX(n1) @ qml.PauliX(n2) @ qml.PauliY(n3),\n",
    "                                          qml.PauliY(n0) @ qml.PauliX(n1) @ qml.PauliY(n2) @ qml.PauliX(n3),\n",
    "                                          qml.PauliY(n0) @ qml.PauliX(n1) @ qml.PauliZ(n2) @ qml.PauliY(n3),\n",
    "                                          qml.PauliY(n0) @ qml.PauliY(n1) @ qml.Identity(n2) @ qml.PauliX(n3),\n",
    "                                          qml.PauliY(n0) @ qml.PauliY(n1) @ qml.PauliX(n2) @ qml.PauliX(n3),\n",
    "                                          qml.PauliY(n0) @ qml.PauliY(n1) @ qml.PauliY(n2) @ qml.PauliY(n3),\n",
    "                                          qml.PauliY(n0) @ qml.PauliY(n1) @ qml.PauliZ(n2) @ qml.PauliX(n3),\n",
    "                                          qml.PauliZ(n0) @ qml.PauliX(n1) @ qml.Identity(n2) @ qml.PauliX(n3),\n",
    "                                          qml.PauliZ(n0) @ qml.PauliX(n1) @ qml.PauliX(n2) @ qml.PauliX(n3),\n",
    "                                          qml.PauliZ(n0) @ qml.PauliX(n1) @ qml.PauliY(n2) @ qml.PauliY(n3),\n",
    "                                          qml.PauliZ(n0) @ qml.PauliX(n1) @ qml.PauliZ(n2) @ qml.PauliX(n3),\n",
    "                                          qml.PauliZ(n0) @ qml.PauliY(n1) @ qml.Identity(n2) @ qml.PauliY(n3),\n",
    "                                          qml.PauliZ(n0) @ qml.PauliY(n1) @ qml.PauliX(n2) @ qml.PauliY(n3),\n",
    "                                          qml.PauliZ(n0) @ qml.PauliY(n1) @ qml.PauliY(n2) @ qml.PauliX(n3),\n",
    "                                          qml.PauliZ(n0) @ qml.PauliY(n1) @ qml.PauliZ(n2) @ qml.PauliY(n3)]\n",
    "    interaction_term = interaction(0,1,2,3) + interaction(2,3,4,5) + interaction(4,5,0,1)\n",
    "    \n",
    "    interaction_coeff = [1.0, -1.0, 1.0, 1.0, 1.0, 1.0, 1.0, 1.0, 2.0, 2.0, -1.0, 1.0, -1.0, -1.0, 1.0, 1.0,\n",
    "                         1.0, 1.0, 2.0, 2.0, 1.0, 1.0, 1.0, 1.0, 1.0, -1.0, 1.0, 1.0, 1.0, -1.0, 1.0, 1.0,\n",
    "                         1.0, 1.0, 1.0, 1.0] * 3\n",
    "    interaction_coeff = [-beta * x / 24. for x in interaction_coeff]\n",
    "    \n",
    "    return qml.Hamiltonian(kinetic_coeff + interaction_coeff, kinetic_term + interaction_term)"
   ]
  },
  {
   "cell_type": "markdown",
   "id": "60531155-d9f9-4f97-a410-3f4dc9f295d9",
   "metadata": {},
   "source": [
    "Useful functions:\n",
    "* ``qml.state()`` returns the state of the quantum circuit\n",
    "* ``qml.expval()`` computes expectation value with respect to an operator"
   ]
  },
  {
   "cell_type": "markdown",
   "id": "36c30118-d991-4274-8d44-f2864a8746ac",
   "metadata": {},
   "source": [
    "**First step:** Try to compute phase transition using exact diagonalisation."
   ]
  },
  {
   "cell_type": "markdown",
   "id": "a4a55dc2-93d3-4667-8bd6-fac295c39d48",
   "metadata": {},
   "source": [
    "**Second step:** Find a suitable ansatz that can diagonalise the Hamiltonian. Do you need to change the ansatz for large $\\beta$ or $\\mu$?"
   ]
  },
  {
   "cell_type": "markdown",
   "id": "3d437519-4129-4b3e-bcfa-dcb12b32cc3d",
   "metadata": {},
   "source": [
    "**Third step:** Compute the lowest eigenstate for $\\mu\\in[0.3,0.7]$ and $\\beta\\in[0.7,1.8]$"
   ]
  },
  {
   "cell_type": "markdown",
   "id": "6933eb46-9239-41e9-bdab-84067ddfbc2a",
   "metadata": {},
   "source": [
    "**Fourth step:** plot $\\langle Q\\rangle$"
   ]
  },
  {
   "cell_type": "markdown",
   "id": "45930b0c-058d-4a34-bb68-37f50150da31",
   "metadata": {},
   "source": [
    "* Do you see any phase transition? \n",
    "* How does it compare to the results that you obtained with exactdiagonalisation?\n",
    "* How can you improve these results by changing your ansatz and/or your training procedure?\n",
    "* Have you tried different traning algorithms: ADAM, SGD, QNGD etc?\n",
    "* How does it change with larger lattice sizes and different geometries?"
   ]
  },
  {
   "cell_type": "markdown",
   "id": "f0c13fda-85f2-412b-afd0-3c0158c7b912",
   "metadata": {},
   "source": [
    "### Further reading:\n",
    "* [O(3) nonlinear sigma model in 1+1 dimensions with matrix product states](https://arxiv.org/abs/1812.00944)\n",
    "* [Toward a quantum simulation of nonlinear sigma models with a topological term](https://arxiv.org/abs/2210.03679)"
   ]
  },
  {
   "cell_type": "code",
   "execution_count": null,
   "id": "9e9cbee5-512d-434b-9acd-9a9361ea6d6f",
   "metadata": {},
   "outputs": [],
   "source": []
  }
 ],
 "metadata": {
  "kernelspec": {
   "display_name": "Python 3 (ipykernel)",
   "language": "python",
   "name": "python3"
  },
  "language_info": {
   "codemirror_mode": {
    "name": "ipython",
    "version": 3
   },
   "file_extension": ".py",
   "mimetype": "text/x-python",
   "name": "python",
   "nbconvert_exporter": "python",
   "pygments_lexer": "ipython3",
   "version": "3.9.16"
  }
 },
 "nbformat": 4,
 "nbformat_minor": 5
}
