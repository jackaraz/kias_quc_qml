{
 "cells": [
  {
   "cell_type": "markdown",
   "id": "582e38a7-cf6f-4930-a337-1629c3e54ce3",
   "metadata": {},
   "source": [
    "# Tensor Contractions"
   ]
  },
  {
   "cell_type": "code",
   "execution_count": 10,
   "id": "1038c97e-273e-4c2f-a7b4-589ef6b3fa37",
   "metadata": {},
   "outputs": [],
   "source": [
    "import numpy as np\n",
    "np.random.seed(47)"
   ]
  },
  {
   "cell_type": "markdown",
   "id": "1eb18b74-99f5-4737-ae61-88f1de61fdb1",
   "metadata": {},
   "source": [
    "## Vectors, Matrices and Tensors"
   ]
  },
  {
   "cell_type": "markdown",
   "id": "e50cba87-f857-477f-9469-be0e12faf7fc",
   "metadata": {},
   "source": [
    "Generate random vectors:"
   ]
  },
  {
   "cell_type": "code",
   "execution_count": 12,
   "id": "da10c370-da6b-4fb3-9d66-01d0852a8b1d",
   "metadata": {},
   "outputs": [],
   "source": [
    "column_vector = np.random.randn(3,1)\n",
    "row_vector = np.random.randn(1,3)"
   ]
  },
  {
   "cell_type": "code",
   "execution_count": 13,
   "id": "68b6d86a-8d72-4b6c-bfbc-778ef017895c",
   "metadata": {},
   "outputs": [
    {
     "data": {
      "text/plain": [
       "array([[-0.54307528,  0.89442696, -1.52451812],\n",
       "       [ 0.83631784, -1.37738773,  2.34770715],\n",
       "       [ 0.59187369, -0.97479632,  1.66150477]])"
      ]
     },
     "execution_count": 13,
     "metadata": {},
     "output_type": "execute_result"
    }
   ],
   "source": [
    "# outer product\n",
    "column_vector @ row_vector"
   ]
  },
  {
   "cell_type": "markdown",
   "id": "4049998e-f746-4d69-8c4b-fcc40f08a93c",
   "metadata": {},
   "source": [
    "Generate a random square matrix:"
   ]
  },
  {
   "cell_type": "code",
   "execution_count": 14,
   "id": "c77bc18f-7e82-45c3-9a87-d1e8d0a37e4d",
   "metadata": {},
   "outputs": [
    {
     "data": {
      "text/plain": [
       "array([[-1.01278675,  0.82362332, -0.29465035],\n",
       "       [-0.59247057, -1.39372706,  1.10417967],\n",
       "       [-0.93234029, -0.94315644,  0.43660623]])"
      ]
     },
     "execution_count": 14,
     "metadata": {},
     "output_type": "execute_result"
    }
   ],
   "source": [
    "matrix = np.random.randn(3,3)\n",
    "matrix"
   ]
  },
  {
   "cell_type": "markdown",
   "id": "54fcccff-9b97-4545-a6b2-f361f7e160d9",
   "metadata": {},
   "source": [
    "Generate a random rank 4 tensor $A_{i,j,k,l}$ where $i\\in \\{1,2,3\\}, j\\in \\{1,2\\}, k\\in \\{1,2,3,4\\}, l\\in \\{1,2,3,4,5\\}$"
   ]
  },
  {
   "cell_type": "code",
   "execution_count": 18,
   "id": "38b999d2-19d1-4fab-9b19-41cf81c3806d",
   "metadata": {},
   "outputs": [
    {
     "name": "stdout",
     "output_type": "stream",
     "text": [
      "i -> dim: 3\n",
      "j -> dim: 2\n",
      "k -> dim: 4\n",
      "l -> dim: 5\n"
     ]
    }
   ],
   "source": [
    "A = np.random.randn(3,2,4,5)\n",
    "for label, dim in zip([\"i\", \"j\", \"k\",\"l\"], A.shape):\n",
    "    print(f\"{label} -> dim: {dim}\")"
   ]
  },
  {
   "cell_type": "markdown",
   "id": "b4092cbf-ec49-4101-a0bc-c20723960d1d",
   "metadata": {},
   "source": [
    "## Contraction"
   ]
  },
  {
   "cell_type": "markdown",
   "id": "c07d5b52-f322-47e8-be22-daf360284e7d",
   "metadata": {},
   "source": [
    "Define a tensor which is a combination of three tensors\n",
    "\n",
    "$$\n",
    "\\Gamma_{ij} = \\sum_{m,k,l}A_{imk} B^{mkl} C_{lj} \n",
    "$$"
   ]
  },
  {
   "cell_type": "code",
   "execution_count": 20,
   "id": "552402b8-8738-487e-9482-ca23b0cceb37",
   "metadata": {},
   "outputs": [
    {
     "name": "stdout",
     "output_type": "stream",
     "text": [
      "i -> dim: 2\n",
      "j -> dim: 3\n"
     ]
    }
   ],
   "source": [
    "i, j, k, l, m = 2,3,4,5,6\n",
    "\n",
    "A = np.random.randn(i,m,k)\n",
    "B = np.random.randn(m,k,l)\n",
    "C = np.random.randn(l, j)\n",
    "\n",
    "Gamma = np.einsum(\"imk,mkl,lj->ij\", A, B, C)\n",
    "\n",
    "for label, dim in zip([\"i\", \"j\"], Gamma.shape):\n",
    "    print(f\"{label} -> dim: {dim}\")"
   ]
  },
  {
   "cell_type": "markdown",
   "id": "8a471705-942b-4dbf-aa79-eeb0237d5bee",
   "metadata": {},
   "source": [
    "## Permutation and Reshape"
   ]
  },
  {
   "cell_type": "code",
   "execution_count": 22,
   "id": "c2cd8482-36c1-454f-a53f-6f4d72b515f9",
   "metadata": {},
   "outputs": [
    {
     "name": "stdout",
     "output_type": "stream",
     "text": [
      "k -> dim: 4\n",
      "i -> dim: 2\n",
      "m -> dim: 6\n"
     ]
    }
   ],
   "source": [
    "A = np.random.randn(i,m,k)\n",
    "\n",
    "Aprime = A.transpose(2,0,1)\n",
    "\n",
    "for label, dim in zip(\"k,i,m\".split(\",\"), Aprime.shape):\n",
    "    print(f\"{label} -> dim: {dim}\")"
   ]
  },
  {
   "cell_type": "code",
   "execution_count": 23,
   "id": "bacfef19-71cf-412b-b964-3316f7b1a814",
   "metadata": {},
   "outputs": [
    {
     "name": "stdout",
     "output_type": "stream",
     "text": [
      "i -> dim: 2\n",
      "m*k -> dim: 24\n"
     ]
    }
   ],
   "source": [
    "A = np.random.randn(i,m,k)\n",
    "\n",
    "Aprime = A.reshape(i, m*k)\n",
    "\n",
    "for label, dim in zip(\"i,m*k\".split(\",\"), Aprime.shape):\n",
    "    print(f\"{label} -> dim: {dim}\")"
   ]
  },
  {
   "cell_type": "markdown",
   "id": "68ef791e-8aa7-446a-9ee9-944771212cd1",
   "metadata": {},
   "source": [
    "##  Contraction costs"
   ]
  },
  {
   "cell_type": "markdown",
   "id": "a9731555-85cd-42ea-bb70-8f5284c93d15",
   "metadata": {},
   "source": [
    "Lets assume $A_{ijk}$ and $B_{ijm}$ the contraction $A_{ijk} B_{ijm}$ will cost \n",
    "\n",
    "$$\n",
    "{\\rm cost}(A\\times B) = \\frac{|{\\rm dim}(A)||{\\rm dim}(B)|}{|{\\rm dim}(A\\cap B)|} = \\frac{{\\rm dim}(i\\cdot j\\cdot k) {\\rm dim}(i\\cdot j\\cdot m)}{{\\rm dim}(i\\cdot j)}\n",
    "$$"
   ]
  },
  {
   "cell_type": "code",
   "execution_count": 25,
   "id": "c520da6d-d8fe-49b9-82a9-c54f2a507754",
   "metadata": {},
   "outputs": [
    {
     "name": "stdout",
     "output_type": "stream",
     "text": [
      "AB shape : (4, 6), cost: O(144)\n"
     ]
    }
   ],
   "source": [
    "A = np.random.randn(i,j,k)\n",
    "B = np.random.randn(i,j,m)\n",
    "\n",
    "AB = np.einsum(\"ijk,ijm->km\", A, B)\n",
    "cost = (i*j*k)*(i*j*m) / (i*j)\n",
    "print(f\"AB shape : {AB.shape}, cost: O({cost:.0f})\")"
   ]
  },
  {
   "cell_type": "markdown",
   "id": "edfbcf40-f3da-474b-8a1a-23b7dfe41b7b",
   "metadata": {},
   "source": [
    "**How you contract matters:** $A_{ijk}B^{iln}C^j_{lm}$ lets assume dimensions $i,j,k,l,m, n$ are $D, d, d, d, D, d$\n",
    "\n",
    "$$\n",
    "cost(A\\times B\\times C) = d^4D^2\\\\\n",
    "cost((A\\times B)\\times C) = 2d^4 D\\\\\n",
    "cost((A\\times C)\\times B) = 2d^3 D^2\n",
    "$$"
   ]
  },
  {
   "cell_type": "code",
   "execution_count": 28,
   "id": "e17846e1-47bc-446a-98aa-e198b34a287f",
   "metadata": {},
   "outputs": [
    {
     "data": {
      "text/plain": [
       "(10, 10)"
      ]
     },
     "execution_count": 28,
     "metadata": {},
     "output_type": "execute_result"
    }
   ],
   "source": [
    "from ncon import ncon\n",
    "d = 10\n",
    "A = np.random.rand(d,d,d); B = np.random.rand(d,d,d,d)\n",
    "C = np.random.rand(d,d,d); D = np.random.rand(d,d)\n",
    "\n",
    "TensorArray = [A,B,C,D]\n",
    "IndexArray = [[1,-2,2],[-1,1,3,4],[5,3,2],[4,5]]\n",
    "\n",
    "E = ncon(TensorArray,IndexArray,con_order = [5,3,4,1,2])\n",
    "E.shape"
   ]
  },
  {
   "cell_type": "code",
   "execution_count": null,
   "id": "18647612-e6eb-411e-8f6a-ef7719e5241c",
   "metadata": {},
   "outputs": [],
   "source": []
  }
 ],
 "metadata": {
  "kernelspec": {
   "display_name": "Python 3 (ipykernel)",
   "language": "python",
   "name": "python3"
  },
  "language_info": {
   "codemirror_mode": {
    "name": "ipython",
    "version": 3
   },
   "file_extension": ".py",
   "mimetype": "text/x-python",
   "name": "python",
   "nbconvert_exporter": "python",
   "pygments_lexer": "ipython3",
   "version": "3.9.16"
  }
 },
 "nbformat": 4,
 "nbformat_minor": 5
}
